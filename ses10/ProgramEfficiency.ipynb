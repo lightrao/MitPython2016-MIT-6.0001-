{
 "nbformat": 4,
 "nbformat_minor": 2,
 "metadata": {
  "language_info": {
   "name": "python",
   "codemirror_mode": {
    "name": "ipython",
    "version": 3
   },
   "version": "3.7.4"
  },
  "orig_nbformat": 2,
  "file_extension": ".py",
  "mimetype": "text/x-python",
  "name": "python",
  "npconvert_exporter": "python",
  "pygments_lexer": "ipython3",
  "version": 3
 },
 "cells": [
  {
   "cell_type": "code",
   "execution_count": 1,
   "metadata": {},
   "outputs": [],
   "source": [
    "import time\n",
    "def c_to_f(c):\n",
    "    # 3 ops\n",
    "    return c*9/5+32"
   ]
  },
  {
   "cell_type": "code",
   "execution_count": 8,
   "metadata": {},
   "outputs": [
    {
     "name": "stdout",
     "output_type": "stream",
     "text": "t= 0.000156000000000045 s,\n"
    }
   ],
   "source": [
    "# TIMING A PROGRAM\n",
    "t0=time.process_time()\n",
    "c_to_f(100000)\n",
    "t1=time.process_time()-t0\n",
    "print(\"t =\",t1,\"s,\")"
   ]
  },
  {
   "cell_type": "code",
   "execution_count": 9,
   "metadata": {},
   "outputs": [],
   "source": [
    "# COUNTING OPERATIONS\n",
    "def mysum(x):\n",
    "    # 1+3x operations\n",
    "    total=0\n",
    "    for i in range(x+1):\n",
    "        total+=i\n",
    "    return total"
   ]
  },
  {
   "cell_type": "code",
   "execution_count": null,
   "metadata": {},
   "outputs": [],
   "source": [
    "def mysum2(x):\n",
    "    # 2+5x operations\n",
    "    total=0\n",
    "    i=0\n",
    "    while i<x+1:\n",
    "        total+=i\n",
    "        i+=1\n",
    "    return total"
   ]
  }
 ]
}