{
 "nbformat": 4,
 "nbformat_minor": 2,
 "metadata": {
  "language_info": {
   "name": "python",
   "codemirror_mode": {
    "name": "ipython",
    "version": 3
   },
   "version": "3.7.4-final"
  },
  "orig_nbformat": 2,
  "file_extension": ".py",
  "mimetype": "text/x-python",
  "name": "python",
  "npconvert_exporter": "python",
  "pygments_lexer": "ipython3",
  "version": 3,
  "kernelspec": {
   "name": "python37464bitprogramdatavirtualenvaf9a87d78c4c4ec7acd15e4acccadf32",
   "display_name": "Python 3.7.4 64-bit ('ProgramData': virtualenv)"
  }
 },
 "cells": [
  {
   "cell_type": "code",
   "execution_count": 1,
   "metadata": {},
   "outputs": [],
   "source": [
    "import time\n",
    "def c_to_f(c):\n",
    "    # 3 ops\n",
    "    return c*9/5+32"
   ]
  },
  {
   "cell_type": "code",
   "execution_count": 2,
   "metadata": {},
   "outputs": [
    {
     "name": "stdout",
     "output_type": "stream",
     "text": "t = 0.0 s,\n"
    }
   ],
   "source": [
    "# TIMING A PROGRAM\n",
    "t0=time.process_time()\n",
    "c_to_f(100000)\n",
    "t1=time.process_time()-t0\n",
    "print(\"t =\",t1,\"s,\")"
   ]
  },
  {
   "cell_type": "code",
   "execution_count": 3,
   "metadata": {},
   "outputs": [],
   "source": [
    "# COUNTING OPERATIONS\n",
    "def mysum(x):\n",
    "    # 1+3x operations\n",
    "    total=0\n",
    "    for i in range(x+1):\n",
    "        total+=i\n",
    "    return total"
   ]
  },
  {
   "cell_type": "code",
   "execution_count": 4,
   "metadata": {},
   "outputs": [],
   "source": [
    "def mysum2(x):\n",
    "    # 2+5x operations\n",
    "    total=0\n",
    "    i=0\n",
    "    while i<x+1:\n",
    "        total+=i\n",
    "        i+=1\n",
    "    return total"
   ]
  },
  {
   "cell_type": "code",
   "execution_count": 5,
   "metadata": {},
   "outputs": [],
   "source": [
    "# a\tfunction that searches for an element in a list\n",
    "def search_for_elmt(L,e):\n",
    "    for i in L:\n",
    "        if i==e:\n",
    "            return True\n",
    "    return False"
   ]
  },
  {
   "cell_type": "code",
   "execution_count": 6,
   "metadata": {},
   "outputs": [],
   "source": [
    "# number of steps:1+5n+1\n",
    "# worst\tcase asymptotic complexity:\tO(n)\n",
    "def fact_iter(n):\n",
    "    answer=1\n",
    "    while n>1:\n",
    "        answer*=n\n",
    "        n-=1\n",
    "    return answer"
   ]
  },
  {
   "cell_type": "code",
   "execution_count": 7,
   "metadata": {},
   "outputs": [],
   "source": [
    "# O(f(n))+O(g(n))=O(f(n)+g(n))\n",
    "def lawOfAdd(n):\n",
    "    # 0(n)+O(n*n)=O(n+n*n)=O(n**2)\n",
    "    for i in range(n):\n",
    "        print(i)\n",
    "    for j in range(n*n):\n",
    "        print(j)"
   ]
  },
  {
   "cell_type": "code",
   "execution_count": 8,
   "metadata": {},
   "outputs": [],
   "source": [
    "# O(f(n))*O(g(n))=O(f(n)*g(n))\n",
    "def lawOfMulti(n):\n",
    "    # O(n)*O(n)=O(n*n)=O(n**2)\n",
    "    for i in range(n):\n",
    "        for j in range(n):\n",
    "            print('a')"
   ]
  },
  {
   "cell_type": "code",
   "execution_count": 9,
   "metadata": {},
   "outputs": [],
   "source": [
    "# O(1+4n+1)=O(n),where n is len(L)\n",
    "def linear_search(L,e):\n",
    "    found=False\n",
    "    for i in range(len(L)):\n",
    "        if e==L[i]:\n",
    "            found=True\n",
    "    return found"
   ]
  },
  {
   "cell_type": "code",
   "execution_count": 10,
   "metadata": {},
   "outputs": [],
   "source": [
    "# linear search on sorted list,O(7n+1)=O(n)\n",
    "def search (L,e):\n",
    "    for i in range(len(L)):\n",
    "        if L[i]==e:\n",
    "            return True\n",
    "        if L[i]>e:\n",
    "            return False\n",
    "    return False"
   ]
  },
  {
   "cell_type": "code",
   "execution_count": 11,
   "metadata": {},
   "outputs": [],
   "source": [
    "# O(1+4n+1)=O(n)\n",
    "def addDigits(s):\n",
    "    val=0\n",
    "    for c in s:\n",
    "        val+=int(c)\n",
    "    return val"
   ]
  },
  {
   "cell_type": "code",
   "execution_count": 13,
   "metadata": {},
   "outputs": [
    {
     "name": "stdout",
     "output_type": "stream",
     "text": "True\n"
    }
   ],
   "source": [
    "# determine\tif one list\tis subset of second, i.e., every element\tof first, appears in second(assume no duplicates)\n",
    "# O(len(L1)*len(L2))=O(n**2)\n",
    "def isSubset(L1,L2):\n",
    "    for e1 in L1:\n",
    "        matched=False\n",
    "        for e2 in L2:\n",
    "            if e1==e2:\n",
    "                matched=True\n",
    "                break\n",
    "        if not matched:\n",
    "            return False\n",
    "    return True\t\n",
    "\n",
    "L1=[1,2]\n",
    "L2=[3,4,5,2,1,]\n",
    "print(isSubset(L1,L2))"
   ]
  },
  {
   "cell_type": "code",
   "execution_count": null,
   "metadata": {},
   "outputs": [],
   "source": []
  }
 ]
}