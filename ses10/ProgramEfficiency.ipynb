{
 "nbformat": 4,
 "nbformat_minor": 2,
 "metadata": {
  "language_info": {
   "name": "python",
   "codemirror_mode": {
    "name": "ipython",
    "version": 3
   },
   "version": "3.7.4-final"
  },
  "orig_nbformat": 2,
  "file_extension": ".py",
  "mimetype": "text/x-python",
  "name": "python",
  "npconvert_exporter": "python",
  "pygments_lexer": "ipython3",
  "version": 3,
  "kernelspec": {
   "name": "python37464bitbaseconda41c2824a1e61405ebbcdc08bea9de9bb",
   "display_name": "Python 3.7.4 64-bit ('base': conda)"
  }
 },
 "cells": [
  {
   "cell_type": "code",
   "execution_count": 1,
   "metadata": {},
   "outputs": [],
   "source": [
    "import time\n",
    "def c_to_f(c):\n",
    "    # 3 ops\n",
    "    return c*9/5+32"
   ]
  },
  {
   "cell_type": "code",
   "execution_count": 8,
   "metadata": {},
   "outputs": [
    {
     "name": "stdout",
     "output_type": "stream",
     "text": "t= 0.000156000000000045 s,\n"
    }
   ],
   "source": [
    "# TIMING A PROGRAM\n",
    "t0=time.process_time()\n",
    "c_to_f(100000)\n",
    "t1=time.process_time()-t0\n",
    "print(\"t =\",t1,\"s,\")"
   ]
  },
  {
   "cell_type": "code",
   "execution_count": 9,
   "metadata": {},
   "outputs": [],
   "source": [
    "# COUNTING OPERATIONS\n",
    "def mysum(x):\n",
    "    # 1+3x operations\n",
    "    total=0\n",
    "    for i in range(x+1):\n",
    "        total+=i\n",
    "    return total"
   ]
  },
  {
   "cell_type": "code",
   "execution_count": null,
   "metadata": {},
   "outputs": [],
   "source": [
    "def mysum2(x):\n",
    "    # 2+5x operations\n",
    "    total=0\n",
    "    i=0\n",
    "    while i<x+1:\n",
    "        total+=i\n",
    "        i+=1\n",
    "    return total"
   ]
  },
  {
   "cell_type": "code",
   "execution_count": 1,
   "metadata": {},
   "outputs": [],
   "source": [
    "# a\tfunction that searches for an element in a list\n",
    "def search_for_elmt(L,e):\n",
    "    for i in L:\n",
    "        if i==e:\n",
    "            return True\n",
    "    return False"
   ]
  },
  {
   "cell_type": "code",
   "execution_count": 2,
   "metadata": {},
   "outputs": [],
   "source": [
    "# number of steps:1+5n+1\n",
    "# worst\tcase asymptotic complexity:\tO(n)\n",
    "def fact_iter(n):\n",
    "    answer=1\n",
    "    while n>1:\n",
    "        answer*=n\n",
    "        n-=1\n",
    "    return answer"
   ]
  },
  {
   "cell_type": "code",
   "execution_count": 5,
   "metadata": {},
   "outputs": [],
   "source": [
    "# O(f(n))+O(g(n))=O(f(n)+g(n))\n",
    "def lawOfAdd(n):\n",
    "    # 0(n)+O(n*n)=O(n+n*n)=O(n**2)\n",
    "    for i in range(n):\n",
    "        print(i)\n",
    "    for j in range(n*n):\n",
    "        print(j)"
   ]
  },
  {
   "cell_type": "code",
   "execution_count": 8,
   "metadata": {},
   "outputs": [],
   "source": [
    "# O(f(n))*O(g(n))=O(f(n)*g(n))\n",
    "def lawOfMulti(n):\n",
    "    # O(n)*O(n)=O(n*n)=O(n**2)\n",
    "    for i in range(n):\n",
    "        for j in range(n):\n",
    "            print('a')"
   ]
  },
  {
   "cell_type": "code",
   "execution_count": null,
   "metadata": {},
   "outputs": [],
   "source": [
    "def linear_search(L,e):\n",
    "    found=False\n",
    "    for i in range(len(L)):\n",
    "        if e==L[i]:\n",
    "            found=True\n",
    "    return found"
   ]
  },
  {
   "cell_type": "code",
   "execution_count": null,
   "metadata": {},
   "outputs": [],
   "source": []
  }
 ]
}