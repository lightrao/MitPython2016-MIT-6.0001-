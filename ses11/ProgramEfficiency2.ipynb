{
 "nbformat": 4,
 "nbformat_minor": 2,
 "metadata": {
  "language_info": {
   "name": "python",
   "codemirror_mode": {
    "name": "ipython",
    "version": 3
   },
   "version": "3.7.4-final"
  },
  "orig_nbformat": 2,
  "file_extension": ".py",
  "mimetype": "text/x-python",
  "name": "python",
  "npconvert_exporter": "python",
  "pygments_lexer": "ipython3",
  "version": 3,
  "kernelspec": {
   "name": "python37464bitbaseconda41c2824a1e61405ebbcdc08bea9de9bb",
   "display_name": "Python 3.7.4 64-bit ('base': conda)"
  }
 },
 "cells": [
  {
   "cell_type": "code",
   "execution_count": 1,
   "metadata": {},
   "outputs": [],
   "source": [
    "# O(logn)*O(n)=O(nlogn)\n",
    "def bisect_search1(L,e):\n",
    "    if L==[]:\n",
    "        return False\n",
    "    elif len(L)==1:\n",
    "        return L[0]==e\n",
    "    else:\n",
    "        half=len(L)//2\n",
    "        if L[half]>e:\n",
    "            return bisect_search1(L[:half],e)\n",
    "        else:\n",
    "            return bisect_search1(L[half:],e)"
   ]
  },
  {
   "cell_type": "code",
   "execution_count": 2,
   "metadata": {},
   "outputs": [
    {
     "name": "stdout",
     "output_type": "stream",
     "text": "False\n"
    }
   ],
   "source": [
    "L=[x for x in range(100)]\n",
    "print(bisect_search1(L,2.2))"
   ]
  },
  {
   "cell_type": "code",
   "execution_count": 3,
   "metadata": {},
   "outputs": [],
   "source": [
    "# O(logn)*O(1)=O(logn)\n",
    "def bisect_search2(L, e):\n",
    "    def bisect_search_helper(L,e,low,high):\n",
    "        if high==low:\n",
    "            return L(low)==e\n",
    "        mid=(high+low)//2\n",
    "        if L[mid]==e:\n",
    "            return True\n",
    "        elif L[mid]>e:\n",
    "            if low==mid:\n",
    "                return False\n",
    "            else:\n",
    "                return bisect_search_helper(L,e,low,mid-1)\n",
    "        else:\n",
    "            return bisect_search_helper(L,e,mid+1,high)\n",
    "    if len(L)==0:\n",
    "        return False\n",
    "    else:\n",
    "        return bisect_search_helper(L,e,0,len(L)-1)"
   ]
  },
  {
   "cell_type": "code",
   "execution_count": 4,
   "metadata": {},
   "outputs": [
    {
     "name": "stdout",
     "output_type": "stream",
     "text": "True\n"
    }
   ],
   "source": [
    "L=[x for x in range(10)]\n",
    "print(bisect_search2(L,2))"
   ]
  },
  {
   "cell_type": "code",
   "execution_count": 5,
   "metadata": {},
   "outputs": [],
   "source": [
    "# O(log(i))\n",
    "def intToStr(i):\n",
    "    digits='0123456789'\n",
    "    if i==0:\n",
    "        return '0'\n",
    "    result=''\n",
    "    while i>0:\n",
    "        result=digits[i%10]+result\n",
    "        i=i//10\n",
    "    return result"
   ]
  },
  {
   "cell_type": "code",
   "execution_count": 6,
   "metadata": {},
   "outputs": [
    {
     "name": "stdout",
     "output_type": "stream",
     "text": "123\n"
    }
   ],
   "source": [
    "print(intToStr(123))"
   ]
  },
  {
   "cell_type": "code",
   "execution_count": 7,
   "metadata": {},
   "outputs": [],
   "source": [
    "# 1=n/10^i get i=log(n)\n",
    "def round(i):\n",
    "    while i>0:\n",
    "        print(i)\n",
    "        i=i//10"
   ]
  },
  {
   "cell_type": "code",
   "execution_count": 8,
   "metadata": {},
   "outputs": [],
   "source": [
    "# O(n) FOR ITERATIVE FACTORIAL\n",
    "def fact_iter(n):\n",
    "    prod=1\n",
    "    for i in range(1,n+1):\n",
    "        prod*=i\n",
    "    return prod"
   ]
  },
  {
   "cell_type": "code",
   "execution_count": 9,
   "metadata": {},
   "outputs": [],
   "source": [
    "# O(n) FOR RECURSIVE FACTORIAL\n",
    "def fact_recur(n):\n",
    "    \"\"\"assume n>=0\"\"\"\n",
    "    if n<=1:\n",
    "        return 1\n",
    "    else:\n",
    "        return n*fact_recur(n-1)"
   ]
  },
  {
   "cell_type": "code",
   "execution_count": 11,
   "metadata": {},
   "outputs": [],
   "source": [
    "def getSubsets(L):\n",
    "    res=[]\n",
    "    if len(L)==0:\n",
    "        return [[]]\n",
    "    smaller=getSubsets(L[:-1])\n",
    "    extra=L[-1:]\n",
    "    new=[]\n",
    "    for small in smaller:\n",
    "        new.append(small+extra)\n",
    "    return smaller+new"
   ]
  },
  {
   "cell_type": "code",
   "execution_count": 14,
   "metadata": {},
   "outputs": [
    {
     "name": "stdout",
     "output_type": "stream",
     "text": "[[], [1], [2], [1, 2], [3], [1, 3], [2, 3], [1, 2, 3]]\n"
    }
   ],
   "source": [
    "print(getSubsets([1,2,3]))"
   ]
  },
  {
   "cell_type": "code",
   "execution_count": null,
   "metadata": {},
   "outputs": [],
   "source": []
  }
 ]
}